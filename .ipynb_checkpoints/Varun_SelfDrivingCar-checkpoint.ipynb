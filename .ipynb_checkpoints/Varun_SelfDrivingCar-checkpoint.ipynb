{
 "cells": [
  {
   "cell_type": "markdown",
   "metadata": {},
   "source": [
    "# <center>Varun_Kumar(142002018)</center>"
   ]
  },
  {
   "cell_type": "markdown",
   "metadata": {},
   "source": [
    "## <center>SELF DRIVING CAR</center>"
   ]
  },
  {
   "cell_type": "markdown",
   "metadata": {
    "id": "GTiM2AU1Tv-3"
   },
   "source": [
    "## 1.Importing libraries"
   ]
  },
  {
   "cell_type": "code",
   "execution_count": 1,
   "metadata": {},
   "outputs": [],
   "source": [
    "from tensorflow.compat.v1 import ConfigProto\n",
    "from tensorflow.compat.v1 import InteractiveSession\n",
    "\n",
    "config = ConfigProto()\n",
    "config.gpu_options.per_process_gpu_memory_fraction = 1\n",
    "config.gpu_options.allow_growth = True\n",
    "session = InteractiveSession(config=config)"
   ]
  },
  {
   "cell_type": "code",
   "execution_count": 2,
   "metadata": {
    "id": "5C5WakyTTv-4"
   },
   "outputs": [],
   "source": [
    "import os\n",
    "import numpy as np\n",
    "import matplotlib.pyplot as plt\n",
    "%matplotlib inline\n",
    "import seaborn as sns\n",
    "from scipy import pi\n",
    "from itertools import islice\n",
    "import cv2\n",
    "import tensorflow as tf\n",
    "import pickle"
   ]
  },
  {
   "cell_type": "markdown",
   "metadata": {
    "id": "f9lkC_x_Tv-5"
   },
   "source": [
    "## 2.Reading images names from text file"
   ]
  },
  {
   "cell_type": "code",
   "execution_count": 3,
   "metadata": {
    "id": "OY77qasgTv-5",
    "outputId": "c09db6eb-e2dc-4e6d-914b-def41ed671fc"
   },
   "outputs": [
    {
     "name": "stdout",
     "output_type": "stream",
     "text": [
      "Finished processing\n"
     ]
    }
   ],
   "source": [
    "#reading the data set from data.txt\n",
    "\n",
    "dataset_path = 'driving_dataset/'\n",
    "training_path = os.path.join( 'data.txt')\n",
    "\n",
    "split = 0.8\n",
    "X = []\n",
    "y = []\n",
    "\n",
    "#islice(text, start, stop, LIMIT) --> ('ABCDEF', 2, None) --> 'C D E F'  -->https://docs.python.org/2/library/itertools.html\n",
    "with open(training_path) as f:\n",
    "    for line in islice(f, None):\n",
    "        path, angle = line.strip().split()\n",
    "        full_path = os.path.join(dataset_path, path)\n",
    "        X.append(full_path)\n",
    "        y.append(float(angle)*pi/180)\n",
    "\n",
    "y = np.array(y)\n",
    "print('Finished processing')\n",
    "\n",
    "#Split it with 80/20\n",
    "split_index = int(len(y)*0.8)\n",
    "y_train = y[:split_index]\n",
    "y_val = y[split_index:]"
   ]
  },
  {
   "cell_type": "markdown",
   "metadata": {
    "id": "Ythr_iFMTv-6"
   },
   "source": [
    "### 2.1 Base Model"
   ]
  },
  {
   "cell_type": "code",
   "execution_count": 4,
   "metadata": {
    "id": "ldkNoRWlTv-6",
    "outputId": "995ff02f-d0c0-4a00-8ab8-de3b78823faa"
   },
   "outputs": [
    {
     "name": "stderr",
     "output_type": "stream",
     "text": [
      "/home/varun/anaconda3/lib/python3.8/site-packages/seaborn/distributions.py:2551: FutureWarning: `distplot` is a deprecated function and will be removed in a future version. Please adapt your code to use either `displot` (a figure-level function with similar flexibility) or `kdeplot` (an axes-level function for kernel density plots).\n",
      "  warnings.warn(msg, FutureWarning)\n",
      "/home/varun/anaconda3/lib/python3.8/site-packages/seaborn/distributions.py:2551: FutureWarning: `distplot` is a deprecated function and will be removed in a future version. Please adapt your code to use either `displot` (a figure-level function with similar flexibility) or `kdeplot` (an axes-level function for kernel density plots).\n",
      "  warnings.warn(msg, FutureWarning)\n"
     ]
    },
    {
     "data": {
      "image/png": "[encoded data removed]",
      "text/plain": [
       "<Figure size 864x576 with 1 Axes>"
      ]
     },
     "metadata": {
      "needs_background": "light"
     },
     "output_type": "display_data"
    }
   ],
   "source": [
    "#distribution of train and test y\n",
    "plt.figure(figsize=(12,8))\n",
    "sns.distplot(y_train, hist=False, label='train_y')\n",
    "sns.distplot(y_val, hist=False, label='test_y')\n",
    "plt.xlabel(' Steering angle')\n",
    "plt.ylabel('Probability distribution')\n",
    "plt.legend()\n",
    "plt.show()"
   ]
  },
  {
   "cell_type": "code",
   "execution_count": 5,
   "metadata": {
    "id": "IWca975LTv-7",
    "outputId": "b32fbce6-d6ce-4703-ad5b-b0b4f6e77974"
   },
   "outputs": [
    {
     "name": "stdout",
     "output_type": "stream",
     "text": [
      "Test_MSE(MEAN):0.090517\n",
      "Test_MSE(ZERO):0.091768\n"
     ]
    }
   ],
   "source": [
    "#Model 0: Base line Model: y_test_pred = mean(y_train_i) \n",
    "train_mean_y = np.mean(y_train)\n",
    "\n",
    "print('Test_MSE(MEAN):%f' % np.mean(np.square(y_val-train_mean_y)) )\n",
    "print('Test_MSE(ZERO):%f' % np.mean(np.square(y_val-0.0)) )"
   ]
  },
  {
   "cell_type": "markdown",
   "metadata": {
    "id": "-4DzM9EcTv-7"
   },
   "source": [
    "## 3. Reading images from the path"
   ]
  },
  {
   "cell_type": "code",
   "execution_count": 6,
   "metadata": {
    "id": "rqWUJSuDTv-7",
    "outputId": "cdead983-0efb-429d-d9e5-5b0e75140c5f"
   },
   "outputs": [
    {
     "data": {
      "text/plain": [
       "True"
      ]
     },
     "execution_count": 6,
     "metadata": {},
     "output_type": "execute_result"
    }
   ],
   "source": [
    "dataset_path = 'driving_dataset/'\n",
    "os.path.exists(os.path.join( 'data.txt'))"
   ]
  },
  {
   "cell_type": "code",
   "execution_count": 7,
   "metadata": {
    "id": "fNnzO-HoTv-8",
    "outputId": "998c720a-d541-4e94-a505-1493d5e8c047"
   },
   "outputs": [
    {
     "name": "stdout",
     "output_type": "stream",
     "text": [
      "51060\n",
      "12765\n"
     ]
    }
   ],
   "source": [
    "print(len(y_train))\n",
    "print(len(y_val))"
   ]
  },
  {
   "cell_type": "code",
   "execution_count": 8,
   "metadata": {
    "id": "C8YJwQZoTv-8",
    "outputId": "5940ab8f-0e51-4a98-9e0a-0925474cc9a3"
   },
   "outputs": [
    {
     "name": "stdout",
     "output_type": "stream",
     "text": [
      "51060\n",
      "12765\n"
     ]
    }
   ],
   "source": [
    "print(len(X[:len(y_train)]))\n",
    "print(len(X[len(y_train):]))"
   ]
  },
  {
   "cell_type": "markdown",
   "metadata": {
    "id": "kNGKMWpnTv-8"
   },
   "source": [
    "### 3.1 Checking on single image"
   ]
  },
  {
   "cell_type": "code",
   "execution_count": 9,
   "metadata": {
    "id": "8zUQqsrmTv-9",
    "outputId": "4f669b43-e361-41eb-919c-1840153daca0"
   },
   "outputs": [
    {
     "data": {
      "text/plain": [
       "'driving_dataset/0.jpg'"
      ]
     },
     "execution_count": 9,
     "metadata": {},
     "output_type": "execute_result"
    }
   ],
   "source": [
    "X[0]"
   ]
  },
  {
   "cell_type": "code",
   "execution_count": 10,
   "metadata": {
    "id": "ggbO_zdNTv-9",
    "outputId": "e99b6d57-be96-4c75-c32a-9023c9a3b453"
   },
   "outputs": [
    {
     "name": "stdout",
     "output_type": "stream",
     "text": [
      "Original_size of the image: (256, 455, 3)\n",
      "After taking the last 150 rows i.e lower part of the images where road is present,  (150, 455, 3)\n",
      "shape after resizing it: (66, 200, 3)\n"
     ]
    }
   ],
   "source": [
    "img = cv2.imread(X[0])\n",
    "print('Original_size of the image:', img.shape)\n",
    "print(\"After taking the last 150 rows i.e lower part of the images where road is present, \",img[-150:].shape)\n",
    "img = img[-150:]\n",
    "resized_img = cv2.resize(img, (200,66))  # 200/66 = 455/150 = 3.0303 => we are keeping aspect ratio when we are resizing it\n",
    "print('shape after resizing it:', resized_img.shape)"
   ]
  },
  {
   "cell_type": "markdown",
   "metadata": {
    "id": "CPwFbNYWTv-9"
   },
   "source": [
    "### 3.2 Doing the same for all images"
   ]
  },
  {
   "cell_type": "code",
   "execution_count": 11,
   "metadata": {
    "id": "AM7W_BqlTv--"
   },
   "outputs": [],
   "source": [
    "X_train = []\n",
    "for i in X[:len(y_train)]:\n",
    "    img = cv2.imread(i)\n",
    "    img = img[-150:]\n",
    "    resized_img = cv2.resize(img, (200,66))\n",
    "    X_train.append(resized_img)"
   ]
  },
  {
   "cell_type": "code",
   "execution_count": 12,
   "metadata": {
    "id": "lxKofEY5Tv--"
   },
   "outputs": [],
   "source": [
    "X_train = np.array(X_train)"
   ]
  },
  {
   "cell_type": "code",
   "execution_count": 13,
   "metadata": {
    "id": "OCA66SGGTv--"
   },
   "outputs": [],
   "source": [
    "import pickle\n",
    "with open('X_train', 'wb') as f:\n",
    "    pickle.dump(X_train, f)"
   ]
  },
  {
   "cell_type": "code",
   "execution_count": 14,
   "metadata": {
    "id": "gUvi6aYqTv--",
    "outputId": "bde30af4-ab91-48b4-ef13-3ec7c4c59002"
   },
   "outputs": [
    {
     "name": "stdout",
     "output_type": "stream",
     "text": [
      "(51060, 66, 200, 3)\n"
     ]
    }
   ],
   "source": [
    "print(X_train.shape)"
   ]
  },
  {
   "cell_type": "code",
   "execution_count": 15,
   "metadata": {
    "id": "8XJiA1NdTv--"
   },
   "outputs": [],
   "source": [
    "X_val = []\n",
    "for j in X[len(y_train):]:\n",
    "    img = cv2.imread(i)\n",
    "    img = img[-150:]\n",
    "    resized_img = cv2.resize(img, (200,66))\n",
    "    X_val.append(resized_img)"
   ]
  },
  {
   "cell_type": "code",
   "execution_count": 16,
   "metadata": {
    "id": "LMTJZ4MmTv-_"
   },
   "outputs": [],
   "source": [
    "X_val = np.array(X_val)"
   ]
  },
  {
   "cell_type": "code",
   "execution_count": 17,
   "metadata": {
    "id": "GbAqGeBPTv-_"
   },
   "outputs": [],
   "source": [
    "import pickle\n",
    "with open('X_val', 'wb') as f:\n",
    "    pickle.dump(X_val, f)"
   ]
  },
  {
   "cell_type": "code",
   "execution_count": 18,
   "metadata": {
    "id": "fi9q60IsTv-_",
    "outputId": "d61811c9-4a02-432f-d153-db7fc0c5eede"
   },
   "outputs": [
    {
     "name": "stdout",
     "output_type": "stream",
     "text": [
      "(12765, 66, 200, 3)\n"
     ]
    }
   ],
   "source": [
    "print(X_val.shape)"
   ]
  },
  {
   "cell_type": "markdown",
   "metadata": {
    "id": "AMpFqY7rTv-_"
   },
   "source": [
    "### 3.3 Reading from pickle file"
   ]
  },
  {
   "cell_type": "code",
   "execution_count": 19,
   "metadata": {
    "id": "ghcS3Uk0Tv_A"
   },
   "outputs": [],
   "source": [
    "with open('X_train', 'rb') as f:\n",
    "    X_train = pickle.load(f)"
   ]
  },
  {
   "cell_type": "code",
   "execution_count": 20,
   "metadata": {
    "id": "Wp-m-M_7Tv_A"
   },
   "outputs": [],
   "source": [
    "with open('X_val', 'rb') as f:\n",
    "    X_val = pickle.load(f)"
   ]
  },
  {
   "cell_type": "code",
   "execution_count": 21,
   "metadata": {
    "id": "YSvEABrwTv_B",
    "outputId": "d1f81a93-f946-4447-8be6-c6d2a48e9d00"
   },
   "outputs": [
    {
     "name": "stdout",
     "output_type": "stream",
     "text": [
      "(51060, 66, 200, 3)\n",
      "(12765, 66, 200, 3)\n",
      "(51060,)\n",
      "(12765,)\n"
     ]
    }
   ],
   "source": [
    "print(X_train.shape)\n",
    "print(X_val.shape)\n",
    "print(y_train.shape)\n",
    "print(y_val.shape)"
   ]
  },
  {
   "cell_type": "markdown",
   "metadata": {
    "id": "VLbk7cYlTv_B"
   },
   "source": [
    "## 4. Preparing data for modelling"
   ]
  },
  {
   "cell_type": "code",
   "execution_count": 22,
   "metadata": {
    "id": "wRJ8Xl6OTv_B",
    "outputId": "e242831b-93d5-4748-cc56-025f46130cbf"
   },
   "outputs": [
    {
     "name": "stdout",
     "output_type": "stream",
     "text": [
      "66 200 3\n"
     ]
    }
   ],
   "source": [
    "img_rows = X_train.shape[1]\n",
    "img_cols = X_train.shape[2]\n",
    "channels = X_train.shape[3]\n",
    "\n",
    "print(img_rows, img_cols, channels)"
   ]
  },
  {
   "cell_type": "code",
   "execution_count": 23,
   "metadata": {
    "id": "faqtzXcbTv_B"
   },
   "outputs": [],
   "source": [
    "import tensorflow.keras.backend as K\n",
    "\n",
    "if K.image_data_format() == 'channels_first':\n",
    "    X_train = X_train.reshape(X_train.shape[0], channels, img_rows, img_cols).astype('float32')\n",
    "    X_val = X_val.reshape(X_val.shape[0], channels, img_rows, img_cols).astype('float32')\n",
    "    img_size = (channels, img_rows, img_cols)\n",
    "    \n",
    "else:\n",
    "    X_train = X_train.reshape(X_train.shape[0], img_rows, img_cols, channels).astype('float32')\n",
    "    X_val = X_val.reshape(X_val.shape[0], img_rows, img_cols, channels).astype('float32')\n",
    "    img_size = (img_rows, img_cols, channels)"
   ]
  },
  {
   "cell_type": "code",
   "execution_count": 24,
   "metadata": {
    "id": "-AxivwjgTv_C"
   },
   "outputs": [],
   "source": [
    "X_train = X_train/255.0\n",
    "X_val = X_val/255.0"
   ]
  },
  {
   "cell_type": "code",
   "execution_count": 25,
   "metadata": {
    "id": "gp1VncypTv_C",
    "outputId": "fe3b39df-8476-46d7-d401-65fa99ed039a"
   },
   "outputs": [
    {
     "name": "stdout",
     "output_type": "stream",
     "text": [
      "(51060, 66, 200, 3)\n",
      "(12765, 66, 200, 3)\n",
      "(66, 200, 3)\n"
     ]
    }
   ],
   "source": [
    "print(X_train.shape)\n",
    "print(X_val.shape)\n",
    "print(img_size)"
   ]
  },
  {
   "cell_type": "markdown",
   "metadata": {
    "id": "m_AlJyl9Tv_C"
   },
   "source": [
    "## 5. Building model from Nvidia Architecture"
   ]
  },
  {
   "cell_type": "code",
   "execution_count": 26,
   "metadata": {
    "id": "HWPy3AzhTv_C"
   },
   "outputs": [],
   "source": [
    "#https://stackoverflow.com/questions/43915482/how-do-you-create-a-custom-activation-function-with-keras\n",
    "from tensorflow.keras import backend as k\n",
    "\n",
    "def custom_activation(x):\n",
    "    return tf.multiply(tf.math.atan(x), 2) #  arctan range is [-pi/2, pi/2]. so we have to get the angle between [-pi, pi] so we are multiplying by 2"
   ]
  },
  {
   "cell_type": "code",
   "execution_count": 28,
   "metadata": {
    "id": "0phTiZ2UTv_D"
   },
   "outputs": [],
   "source": [
    "#to refer the model architecture: https://developer.nvidia.com/blog/deep-learning-self-driving-cars/\n",
    "#to use atan as a activation function refer: https://www.tensorflow.org/api_docs/python/tf/math/atan\n",
    "\n",
    "img_input = tf.keras.Input(img_size)\n",
    "x = tf.keras.layers.Conv2D(filters=24, kernel_size=(5,5), strides=(2,2), padding='valid', name='conv-1')(img_input)\n",
    "x = tf.keras.layers.Conv2D(filters=36, kernel_size=(5,5), strides=(2,2), padding='valid', name='conv-2')(x)\n",
    "x = tf.keras.layers.Conv2D(filters=48, kernel_size=(5,5), strides=(2,2), padding='valid', name='conv-3')(x)\n",
    "x = tf.keras.layers.Conv2D(filters=64, kernel_size=(3,3), strides=(1,1), padding='valid', name='conv-4')(x)\n",
    "x = tf.keras.layers.Conv2D(filters=64, kernel_size=(3,3), strides=(1,1), padding='valid', name='conv-5')(x)\n",
    "x = tf.keras.layers.Flatten(name='flatten')(x)\n",
    "x = tf.keras.layers.Dense(1164, activation='relu', name='dense_layer-1')(x)\n",
    "x = tf.keras.layers.Dropout(0.2, name='dropout-1')(x)\n",
    "x = tf.keras.layers.Dense(100, activation='relu', name='dense_layer-2')(x)\n",
    "x = tf.keras.layers.Dropout(0.2, name='dropout-2')(x)\n",
    "x = tf.keras.layers.Dense(50, activation='relu', name='dense_layer-3')(x)\n",
    "x = tf.keras.layers.Dropout(0.2, name='dropout-3')(x)\n",
    "x = tf.keras.layers.Dense(10, activation='relu', name='dense_layer-4')(x)\n",
    "x = tf.keras.layers.Dropout(0.2, name='dropout-4')(x)\n",
    "output = tf.keras.layers.Dense(1, activation=custom_activation, name='output')(x) #note we have used atan to use tan inverse activation\n",
    "\n",
    "model_1 = tf.keras.models.Model(inputs=img_input, outputs=output, name='model-1')"
   ]
  },
  {
   "cell_type": "code",
   "execution_count": 29,
   "metadata": {
    "id": "BSjmpJ82Tv_D",
    "outputId": "e39c9e73-a7c1-4080-d585-e36e4e4dab11"
   },
   "outputs": [
    {
     "name": "stdout",
     "output_type": "stream",
     "text": [
      "Model: \"model-1\"\n",
      "_________________________________________________________________\n",
      "Layer (type)                 Output Shape              Param #   \n",
      "=================================================================\n",
      "input_1 (InputLayer)         [(None, 66, 200, 3)]      0         \n",
      "_________________________________________________________________\n",
      "conv-1 (Conv2D)              (None, 31, 98, 24)        1824      \n",
      "_________________________________________________________________\n",
      "conv-2 (Conv2D)              (None, 14, 47, 36)        21636     \n",
      "_________________________________________________________________\n",
      "conv-3 (Conv2D)              (None, 5, 22, 48)         43248     \n",
      "_________________________________________________________________\n",
      "conv-4 (Conv2D)              (None, 3, 20, 64)         27712     \n",
      "_________________________________________________________________\n",
      "conv-5 (Conv2D)              (None, 1, 18, 64)         36928     \n",
      "_________________________________________________________________\n",
      "flatten (Flatten)            (None, 1152)              0         \n",
      "_________________________________________________________________\n",
      "dense_layer-1 (Dense)        (None, 1164)              1342092   \n",
      "_________________________________________________________________\n",
      "dropout-1 (Dropout)          (None, 1164)              0         \n",
      "_________________________________________________________________\n",
      "dense_layer-2 (Dense)        (None, 100)               116500    \n",
      "_________________________________________________________________\n",
      "dropout-2 (Dropout)          (None, 100)               0         \n",
      "_________________________________________________________________\n",
      "dense_layer-3 (Dense)        (None, 50)                5050      \n",
      "_________________________________________________________________\n",
      "dropout-3 (Dropout)          (None, 50)                0         \n",
      "_________________________________________________________________\n",
      "dense_layer-4 (Dense)        (None, 10)                510       \n",
      "_________________________________________________________________\n",
      "dropout-4 (Dropout)          (None, 10)                0         \n",
      "_________________________________________________________________\n",
      "output (Dense)               (None, 1)                 11        \n",
      "=================================================================\n",
      "Total params: 1,595,511\n",
      "Trainable params: 1,595,511\n",
      "Non-trainable params: 0\n",
      "_________________________________________________________________\n"
     ]
    }
   ],
   "source": [
    "model_1.summary()"
   ]
  },
  {
   "cell_type": "markdown",
   "metadata": {
    "id": "4m83RfRmTv_D"
   },
   "source": [
    "## 6. Compiling and fit the model"
   ]
  },
  {
   "cell_type": "code",
   "execution_count": 30,
   "metadata": {
    "id": "vdrpSGgjTv_D"
   },
   "outputs": [],
   "source": [
    "model_1.compile(optimizer=tf.keras.optimizers.Adam(learning_rate=0.0001), loss='mean_squared_error')"
   ]
  },
  {
   "cell_type": "code",
   "execution_count": 31,
   "metadata": {
    "id": "wS8f18WxTv_E"
   },
   "outputs": [],
   "source": [
    "batch_size = 64\n",
    "Epochs = 30"
   ]
  },
  {
   "cell_type": "code",
   "execution_count": 27,
   "metadata": {
    "id": "RmloPdMHTv_E"
   },
   "outputs": [],
   "source": [
    "from tensorflow.keras.callbacks import EarlyStopping, ReduceLROnPlateau, ModelCheckpoint\n",
    "\n",
    "checkpoint_file_name = 'my_data/checkpoint/first_run/weights.{epoch:02d}-{val_loss:.2f}.hdf5'\n",
    "model_checkpoint = ModelCheckpoint(checkpoint_file_name, monitor='val_loss', verbose=1, save_best_only=True)\n",
    "\n",
    "callbacks = [model_checkpoint]"
   ]
  },
  {
   "cell_type": "code",
   "execution_count": 33,
   "metadata": {
    "id": "mw0wQuVoTv_E",
    "outputId": "bce94250-8f58-4ff2-b47d-b07ca7fbedb1"
   },
   "outputs": [
    {
     "name": "stdout",
     "output_type": "stream",
     "text": [
      "Epoch 1/30\n",
      "798/798 - 175s - loss: 0.2355 - val_loss: 0.1009\n",
      "\n",
      "Epoch 00001: val_loss improved from inf to 0.10091, saving model to my_data/checkpoint/first_run/weights.01-0.10.hdf5\n",
      "Epoch 2/30\n",
      "798/798 - 11s - loss: 0.1737 - val_loss: 0.0909\n",
      "\n",
      "Epoch 00002: val_loss improved from 0.10091 to 0.09090, saving model to my_data/checkpoint/first_run/weights.02-0.09.hdf5\n",
      "Epoch 3/30\n",
      "798/798 - 11s - loss: 0.1171 - val_loss: 0.0934\n",
      "\n",
      "Epoch 00003: val_loss did not improve from 0.09090\n",
      "Epoch 4/30\n",
      "798/798 - 11s - loss: 0.0883 - val_loss: 0.0937\n",
      "\n",
      "Epoch 00004: val_loss did not improve from 0.09090\n",
      "Epoch 5/30\n",
      "798/798 - 11s - loss: 0.0702 - val_loss: 0.0923\n",
      "\n",
      "Epoch 00005: val_loss did not improve from 0.09090\n",
      "Epoch 6/30\n",
      "798/798 - 11s - loss: 0.0594 - val_loss: 0.0935\n",
      "\n",
      "Epoch 00006: val_loss did not improve from 0.09090\n",
      "Epoch 7/30\n",
      "798/798 - 11s - loss: 0.0544 - val_loss: 0.0930\n",
      "\n",
      "Epoch 00007: val_loss did not improve from 0.09090\n",
      "Epoch 8/30\n",
      "798/798 - 11s - loss: 0.0488 - val_loss: 0.1044\n",
      "\n",
      "Epoch 00008: val_loss did not improve from 0.09090\n",
      "Epoch 9/30\n",
      "798/798 - 11s - loss: 0.0450 - val_loss: 0.1001\n",
      "\n",
      "Epoch 00009: val_loss did not improve from 0.09090\n",
      "Epoch 10/30\n",
      "798/798 - 11s - loss: 0.0437 - val_loss: 0.0932\n",
      "\n",
      "Epoch 00010: val_loss did not improve from 0.09090\n",
      "Epoch 11/30\n",
      "798/798 - 11s - loss: 0.0397 - val_loss: 0.0921\n",
      "\n",
      "Epoch 00011: val_loss did not improve from 0.09090\n",
      "Epoch 12/30\n",
      "798/798 - 11s - loss: 0.0373 - val_loss: 0.0929\n",
      "\n",
      "Epoch 00012: val_loss did not improve from 0.09090\n",
      "Epoch 13/30\n",
      "798/798 - 11s - loss: 0.0366 - val_loss: 0.0900\n",
      "\n",
      "Epoch 00013: val_loss improved from 0.09090 to 0.09004, saving model to my_data/checkpoint/first_run/weights.13-0.09.hdf5\n",
      "Epoch 14/30\n",
      "798/798 - 11s - loss: 0.0345 - val_loss: 0.0908\n",
      "\n",
      "Epoch 00014: val_loss did not improve from 0.09004\n",
      "Epoch 15/30\n",
      "798/798 - 11s - loss: 0.0325 - val_loss: 0.0908\n",
      "\n",
      "Epoch 00015: val_loss did not improve from 0.09004\n",
      "Epoch 16/30\n",
      "798/798 - 11s - loss: 0.0308 - val_loss: 0.0902\n",
      "\n",
      "Epoch 00016: val_loss did not improve from 0.09004\n",
      "Epoch 17/30\n",
      "798/798 - 11s - loss: 0.0293 - val_loss: 0.0909\n",
      "\n",
      "Epoch 00017: val_loss did not improve from 0.09004\n",
      "Epoch 18/30\n",
      "798/798 - 11s - loss: 0.0310 - val_loss: 0.0906\n",
      "\n",
      "Epoch 00018: val_loss did not improve from 0.09004\n",
      "Epoch 19/30\n",
      "798/798 - 11s - loss: 0.0299 - val_loss: 0.0898\n",
      "\n",
      "Epoch 00019: val_loss improved from 0.09004 to 0.08981, saving model to my_data/checkpoint/first_run/weights.19-0.09.hdf5\n",
      "Epoch 20/30\n",
      "798/798 - 11s - loss: 0.0294 - val_loss: 0.0906\n",
      "\n",
      "Epoch 00020: val_loss did not improve from 0.08981\n",
      "Epoch 21/30\n",
      "798/798 - 11s - loss: 0.0285 - val_loss: 0.0903\n",
      "\n",
      "Epoch 00021: val_loss did not improve from 0.08981\n",
      "Epoch 22/30\n",
      "798/798 - 11s - loss: 0.0259 - val_loss: 0.0906\n",
      "\n",
      "Epoch 00022: val_loss did not improve from 0.08981\n",
      "Epoch 23/30\n",
      "798/798 - 11s - loss: 0.0270 - val_loss: 0.0902\n",
      "\n",
      "Epoch 00023: val_loss did not improve from 0.08981\n",
      "Epoch 24/30\n",
      "798/798 - 11s - loss: 0.0255 - val_loss: 0.0902\n",
      "\n",
      "Epoch 00024: val_loss did not improve from 0.08981\n",
      "Epoch 25/30\n",
      "798/798 - 11s - loss: 0.0258 - val_loss: 0.0914\n",
      "\n",
      "Epoch 00025: val_loss did not improve from 0.08981\n",
      "Epoch 26/30\n",
      "798/798 - 11s - loss: 0.0246 - val_loss: 0.0895\n",
      "\n",
      "Epoch 00026: val_loss improved from 0.08981 to 0.08947, saving model to my_data/checkpoint/first_run/weights.26-0.09.hdf5\n",
      "Epoch 27/30\n",
      "798/798 - 11s - loss: 0.0247 - val_loss: 0.0900\n",
      "\n",
      "Epoch 00027: val_loss did not improve from 0.08947\n",
      "Epoch 28/30\n",
      "798/798 - 11s - loss: 0.0244 - val_loss: 0.0895\n",
      "\n",
      "Epoch 00028: val_loss did not improve from 0.08947\n",
      "Epoch 29/30\n",
      "798/798 - 11s - loss: 0.0240 - val_loss: 0.0896\n",
      "\n",
      "Epoch 00029: val_loss did not improve from 0.08947\n",
      "Epoch 30/30\n",
      "798/798 - 11s - loss: 0.0234 - val_loss: 0.0896\n",
      "\n",
      "Epoch 00030: val_loss did not improve from 0.08947\n"
     ]
    }
   ],
   "source": [
    "history = model_1.fit(X_train, y_train, batch_size=batch_size, epochs=Epochs, validation_data=(X_val, y_val), callbacks=callbacks, verbose=2)"
   ]
  },
  {
   "cell_type": "markdown",
   "metadata": {
    "id": "bbDquWtWTv_E"
   },
   "source": [
    "### 6.1 Model loss plot - using dropout"
   ]
  },
  {
   "cell_type": "code",
   "execution_count": 34,
   "metadata": {
    "id": "EJO3lWolTv_E",
    "outputId": "f6388384-64f3-49b8-a755-a4ef8782b0b2"
   },
   "outputs": [
    {
     "data": {
      "image/png": "[encoded data removed]",
      "text/plain": [
       "<Figure size 864x288 with 1 Axes>"
      ]
     },
     "metadata": {
      "needs_background": "light"
     },
     "output_type": "display_data"
    }
   ],
   "source": [
    "# history plot for accuracy\n",
    "plt.figure(figsize=(12,4))\n",
    "plt.plot(history.history[\"loss\"])\n",
    "plt.plot(history.history[\"val_loss\"])\n",
    "plt.title(\"Model Loss\")\n",
    "plt.xlabel(\"Epoch\")\n",
    "plt.ylabel(\"Loss\")\n",
    "plt.legend([\"train\", \"test\"])\n",
    "plt.show()"
   ]
  },
  {
   "cell_type": "markdown",
   "metadata": {
    "id": "hdMyjm27Tv_F"
   },
   "source": [
    "## Summary:\n",
    "- As we can see from the base model we got Test_MSE(MEAN):0.191127 , Test_MSE(ZERO):0.190891 and here we got 0.1907 as mean_squared_error  with dropout. This makes sense as that most of the time steering angle is 0  and thats why distribution is around with mean as zero. \n",
    "- Even after so many epochs we can't reduce mean_squared_error further "
   ]
  },
  {
   "cell_type": "markdown",
   "metadata": {
    "id": "qsPCsGxCTv_F"
   },
   "source": [
    "## 7. Using the output prediction "
   ]
  },
  {
   "cell_type": "code",
   "execution_count": 27,
   "metadata": {
    "id": "X-d7d7PiTv_F"
   },
   "outputs": [],
   "source": [
    "#https://stackoverflow.com/questions/55779286/valueerror-unknown-activation-function-my-custom-activation-function\n",
    "best_model_1 = tf.keras.models.load_model('my_data/checkpoint/first_run/weights.26-0.09.hdf5', \n",
    "                                          custom_objects={'custom_activation':custom_activation})\n",
    "all_pred = []\n",
    "\n",
    "for i in X_val[1000:2000]:\n",
    "    i = cv2.resize(i, (200,66))\n",
    "    i = i/255.0\n",
    "    i = np.expand_dims(i, axis=0)\n",
    "    prediction = best_model_1.predict(i)\n",
    "    all_pred.extend(prediction[0])"
   ]
  },
  {
   "cell_type": "code",
   "execution_count": 28,
   "metadata": {
    "id": "XFUf30HETv_F",
    "outputId": "601756a8-1822-4a70-f4e2-88cec7d9a9ff"
   },
   "outputs": [
    {
     "data": {
      "text/plain": [
       "{-0.7811845}"
      ]
     },
     "execution_count": 28,
     "metadata": {},
     "output_type": "execute_result"
    }
   ],
   "source": [
    "(set(all_pred))"
   ]
  },
  {
   "cell_type": "code",
   "execution_count": 29,
   "metadata": {
    "id": "0jKl3z12Tv_G",
    "outputId": "0e9f3adb-1716-459e-cafd-e627ab838f71"
   },
   "outputs": [
    {
     "data": {
      "text/plain": [
       "178"
      ]
     },
     "execution_count": 29,
     "metadata": {},
     "output_type": "execute_result"
    }
   ],
   "source": [
    "len(set(y_val[1000:2000]))"
   ]
  },
  {
   "cell_type": "markdown",
   "metadata": {
    "id": "xJCwB4hlTv_H"
   },
   "source": [
    "### 7.1 Making the video using the images we have so that we can rotate the steering using the video"
   ]
  },
  {
   "cell_type": "code",
   "execution_count": 30,
   "metadata": {
    "id": "tHdZJej2Tv_H",
    "outputId": "6c7f287b-7b91-41c9-c27d-6f69d7e18462"
   },
   "outputs": [
    {
     "name": "stdout",
     "output_type": "stream",
     "text": [
      "True\n",
      "<class 'str'>\n"
     ]
    }
   ],
   "source": [
    "print(os.path.exists(X[0]))\n",
    "print(type(X[0]))"
   ]
  },
  {
   "cell_type": "code",
   "execution_count": null,
   "metadata": {
    "id": "DYw_o2rfTv_H"
   },
   "outputs": [],
   "source": [
    "#https://theailearner.com/2018/10/15/creating-video-from-images-using-opencv-python/\n",
    "\n",
    "#we have X which is a list contains the path of each image\n",
    "image_array = []\n",
    "for i in X:\n",
    "    img = cv2.imread(i)\n",
    "    image_array.append(img)\n",
    "\n",
    "out = cv2.VideoWriter('my_data/Self_Driving_Car.avi', cv2.VideoWriter_fourcc(*'DIVX'), 15, (img.shape[1], img.shape[0]))\n",
    "for j in range(len(image_array)):\n",
    "    out.write(image_array[j])\n",
    "out.release()"
   ]
  },
  {
   "cell_type": "markdown",
   "metadata": {
    "id": "M8xzS2LVTv_I"
   },
   "source": [
    "### 7.2 Rotate the steering as per the prediction"
   ]
  },
  {
   "cell_type": "code",
   "execution_count": null,
   "metadata": {},
   "outputs": [],
   "source": [
    "#to rotate the steering image refer https://opencv-python-tutroals.readthedocs.io/en/latest/py_tutorials/py_imgproc/py_geometric_transformations/py_geometric_transformations.html\n",
    "#steering_image\n",
    "import scipy\n",
    "model_1 = tf.keras.models.load_model('my_data/checkpoint/first_run/weights.20-0.19.hdf5', \n",
    "                                          custom_objects={'custom_activation':custom_activation})\n",
    "steering_img = cv2.imread('steering_wheel_image.jpg')\n",
    "rows, cols = steering_img.shape[0], steering_img.shape[1]\n",
    "\n",
    "cap = cv2.VideoCapture('my_data/Self_Driving_Car.avi')\n",
    "\n",
    "smoothed_angle = 0\n",
    "while True:\n",
    "    ret, frame = cap.read()\n",
    "    resized_frame = cv2.resize(frame, (200,66))\n",
    "    resized_frame = resized_frame/255.0\n",
    "    resized_frame = np.expand_dims(resized_frame,axis=0)\n",
    "    degrees = (model_1.predict(resized_frame) * 180)/scipy.pi  #to convert the radians to degrees\n",
    "    cv2.imshow('frame', frame)\n",
    "    #make smooth angle transitions by turning the steering wheel based on the difference of the current angle\n",
    "    #and the predicted angle\n",
    "    smoothed_angle += 0/2 * pow(abs(degrees - smoothed_angle), 2.0/3.0) * (degrees-smoothed_angle) / abs(degrees-smoothed_angle)\n",
    "    degrees=float(degrees)\n",
    "    M = cv2.getRotationMatrix2D((cols/2, rows/2), -degrees, 1)\n",
    "    dst = cv2.warpAffine(steering_img, M, (cols,rows))\n",
    "    cv2.imshow('steering_wheel', dst)\n",
    "    \n",
    "    if cv2.waitKey(1)==27:\n",
    "        break\n",
    "        \n",
    "cv2.destroyAllWindows()\n",
    "cap.release()"
   ]
  },
  {
   "cell_type": "markdown",
   "metadata": {
    "id": "Vx2bvmmsTv_J"
   },
   "source": [
    "- split ---> 70%training and 30% testing\n",
    "- adam optimizer ---> learning_rate = 0.001\n",
    "- dropout ---> 0.5\n",
    "- activation --> 'linear' instead of atan"
   ]
  },
  {
   "cell_type": "code",
   "execution_count": 42,
   "metadata": {
    "id": "s7uTyvNoTv_J",
    "outputId": "a46e8876-574e-47f6-f8c2-25ed940cc371"
   },
   "outputs": [
    {
     "name": "stdout",
     "output_type": "stream",
     "text": [
      "Finished processing\n"
     ]
    }
   ],
   "source": [
    "#reading the data set from data.txt\n",
    "\n",
    "dataset_path = 'driving_dataset/'\n",
    "training_path = os.path.join(dataset_path, 'data.txt')\n",
    "\n",
    "split = 0.7\n",
    "X = []\n",
    "y = []\n",
    "\n",
    "#islice(text, start, stop, LIMIT) --> ('ABCDEF', 2, None) --> 'C D E F'  -->https://docs.python.org/2/library/itertools.html\n",
    "with open(training_path) as f:\n",
    "    for line in islice(f, None):\n",
    "        path, angle = line.strip().split()\n",
    "        full_path = os.path.join(dataset_path, path)\n",
    "        X.append(full_path)\n",
    "        y.append(float(angle)*pi/180)\n",
    "\n",
    "y = np.array(y)\n",
    "print('Finished processing')\n",
    "\n",
    "#Split it with 70/30\n",
    "split_index = int(len(y)*0.7)\n",
    "y_train = y[:split_index]\n",
    "y_val = y[split_index:]"
   ]
  },
  {
   "cell_type": "markdown",
   "metadata": {
    "id": "D9qT0-XRTv_J"
   },
   "source": [
    "### 8.1 Base Model"
   ]
  },
  {
   "cell_type": "code",
   "execution_count": 43,
   "metadata": {
    "id": "OC2_lqdxTv_J",
    "outputId": "47a3deb6-72e6-40b4-d4b6-bbc6b3049bbd"
   },
   "outputs": [
    {
     "name": "stderr",
     "output_type": "stream",
     "text": [
      "/home/varun/anaconda3/lib/python3.8/site-packages/seaborn/distributions.py:2551: FutureWarning: `distplot` is a deprecated function and will be removed in a future version. Please adapt your code to use either `displot` (a figure-level function with similar flexibility) or `kdeplot` (an axes-level function for kernel density plots).\n",
      "  warnings.warn(msg, FutureWarning)\n",
      "/home/varun/anaconda3/lib/python3.8/site-packages/seaborn/distributions.py:2551: FutureWarning: `distplot` is a deprecated function and will be removed in a future version. Please adapt your code to use either `displot` (a figure-level function with similar flexibility) or `kdeplot` (an axes-level function for kernel density plots).\n",
      "  warnings.warn(msg, FutureWarning)\n"
     ]
    },
    {
     "data": {
      "image/png": "[encoded data removed]",
      "text/plain": [
       "<Figure size 864x576 with 1 Axes>"
      ]
     },
     "metadata": {
      "needs_background": "light"
     },
     "output_type": "display_data"
    }
   ],
   "source": [
    "#distribution of train and test y\n",
    "plt.figure(figsize=(12,8))\n",
    "sns.distplot(y_train, hist=False, label='y_train')\n",
    "sns.distplot(y_val, hist=False, label='y_val')\n",
    "plt.xlabel(' Steering angle')\n",
    "plt.ylabel('Probability distribution')\n",
    "plt.legend()\n",
    "plt.show()"
   ]
  },
  {
   "cell_type": "code",
   "execution_count": 44,
   "metadata": {
    "id": "Am90NklCTv_K",
    "outputId": "92cfd85b-fe72-4e5f-c73e-644217df6732"
   },
   "outputs": [
    {
     "name": "stdout",
     "output_type": "stream",
     "text": [
      "Test_MSE(MEAN):0.241561\n",
      "Test_MSE(ZERO):0.241107\n"
     ]
    }
   ],
   "source": [
    "#Model 0: Base line Model: y_test_pred = mean(y_train_i) \n",
    "train_mean_y = np.mean(y_train)\n",
    "\n",
    "print('Test_MSE(MEAN):%f' % np.mean(np.square(y_val-train_mean_y)) )\n",
    "print('Test_MSE(ZERO):%f' % np.mean(np.square(y_val-0.0)) )"
   ]
  },
  {
   "cell_type": "markdown",
   "metadata": {
    "id": "WeNBln_eTv_K"
   },
   "source": [
    "### 8.2. Reading images from the path"
   ]
  },
  {
   "cell_type": "code",
   "execution_count": 45,
   "metadata": {
    "id": "mDVcMyYFTv_K",
    "outputId": "0721aefb-c2b1-4dec-9621-b016cbd0371e"
   },
   "outputs": [
    {
     "data": {
      "text/plain": [
       "True"
      ]
     },
     "execution_count": 45,
     "metadata": {},
     "output_type": "execute_result"
    }
   ],
   "source": [
    "dataset_path = 'driving_dataset/'\n",
    "os.path.exists(os.path.join(dataset_path, 'data.txt'))"
   ]
  },
  {
   "cell_type": "code",
   "execution_count": 46,
   "metadata": {
    "id": "OWCyNKjETv_K",
    "outputId": "333320c2-734b-43e4-d0f7-6730ec960c4c"
   },
   "outputs": [
    {
     "name": "stdout",
     "output_type": "stream",
     "text": [
      "31784\n",
      "13622\n"
     ]
    }
   ],
   "source": [
    "print(len(X[:len(y_train)]))\n",
    "print(len(X[len(y_train):]))"
   ]
  },
  {
   "cell_type": "markdown",
   "metadata": {
    "id": "MIQG50NoTv_L"
   },
   "source": [
    "#### 8.2.1 Checking on single image"
   ]
  },
  {
   "cell_type": "code",
   "execution_count": 47,
   "metadata": {
    "id": "xbIYnbnVTv_L",
    "outputId": "9cf2c66b-9946-4b35-f9b4-0e55db70642e"
   },
   "outputs": [
    {
     "data": {
      "text/plain": [
       "'driving_dataset/0.jpg'"
      ]
     },
     "execution_count": 47,
     "metadata": {},
     "output_type": "execute_result"
    }
   ],
   "source": [
    "X[0]"
   ]
  },
  {
   "cell_type": "code",
   "execution_count": 48,
   "metadata": {
    "id": "81mLB958Tv_L",
    "outputId": "b16b7207-e997-4988-bd57-0c74ee6980e7"
   },
   "outputs": [
    {
     "name": "stdout",
     "output_type": "stream",
     "text": [
      "Original_size of the image: (256, 455, 3)\n",
      "After taking the last 150 rows i.e lower part of the images where road is present,  (150, 455, 3)\n",
      "shape after resizing it: (66, 200, 3)\n"
     ]
    }
   ],
   "source": [
    "img = cv2.imread(X[0])\n",
    "print('Original_size of the image:', img.shape)\n",
    "print(\"After taking the last 150 rows i.e lower part of the images where road is present, \",img[-150:].shape)\n",
    "img = img[-150:]\n",
    "resized_img = cv2.resize(img, (200,66))  # 200/66 = 455/150 = 3.0303 => we are keeping aspect ratio when we are resizing it\n",
    "print('shape after resizing it:', resized_img.shape)"
   ]
  },
  {
   "cell_type": "markdown",
   "metadata": {
    "id": "fXg_ONJhTv_L"
   },
   "source": [
    "#### 8.2..2 Doing the same for all images"
   ]
  },
  {
   "cell_type": "code",
   "execution_count": 49,
   "metadata": {
    "id": "7rf-uh4wTv_L"
   },
   "outputs": [],
   "source": [
    "X_train = []\n",
    "for i in X[:len(y_train)]:\n",
    "    img = cv2.imread(i)\n",
    "    img = img[-150:]\n",
    "    resized_img = cv2.resize(img, (200,66))\n",
    "    X_train.append(resized_img)"
   ]
  },
  {
   "cell_type": "code",
   "execution_count": 50,
   "metadata": {
    "id": "BmPBnYPHTv_M"
   },
   "outputs": [],
   "source": [
    "X_train = np.array(X_train)"
   ]
  },
  {
   "cell_type": "code",
   "execution_count": 51,
   "metadata": {
    "id": "bF2A9RPTTv_M"
   },
   "outputs": [],
   "source": [
    "import pickle\n",
    "with open('assign_train', 'wb') as f:\n",
    "    pickle.dump(X_train, f)"
   ]
  },
  {
   "cell_type": "code",
   "execution_count": 52,
   "metadata": {
    "id": "UvW0swPiTv_M",
    "outputId": "221d50a6-a615-4b89-e55d-1b3bce655496"
   },
   "outputs": [
    {
     "name": "stdout",
     "output_type": "stream",
     "text": [
      "(31784, 66, 200, 3)\n"
     ]
    }
   ],
   "source": [
    "print(X_train.shape)"
   ]
  },
  {
   "cell_type": "code",
   "execution_count": 53,
   "metadata": {
    "id": "Kf05SMMnTv_M"
   },
   "outputs": [],
   "source": [
    "X_val = []\n",
    "for j in X[len(y_train):]:\n",
    "    img = cv2.imread(i)\n",
    "    img = img[-150:]\n",
    "    resized_img = cv2.resize(img, (200,66))\n",
    "    X_val.append(resized_img)"
   ]
  },
  {
   "cell_type": "code",
   "execution_count": 54,
   "metadata": {
    "id": "U3iXuE5CTv_M"
   },
   "outputs": [],
   "source": [
    "X_val = np.array(X_val)"
   ]
  },
  {
   "cell_type": "code",
   "execution_count": 55,
   "metadata": {
    "id": "z3vN6drjTv_N"
   },
   "outputs": [],
   "source": [
    "import pickle\n",
    "with open('assign_val', 'wb') as f:\n",
    "    pickle.dump(X_val, f)"
   ]
  },
  {
   "cell_type": "code",
   "execution_count": 56,
   "metadata": {
    "id": "pifXMxpPTv_N",
    "outputId": "ef667857-4d60-47bc-9bca-dc0cc52739af"
   },
   "outputs": [
    {
     "name": "stdout",
     "output_type": "stream",
     "text": [
      "(13622, 66, 200, 3)\n"
     ]
    }
   ],
   "source": [
    "print(X_val.shape)"
   ]
  },
  {
   "cell_type": "markdown",
   "metadata": {
    "id": "5l_ye6HFTv_N"
   },
   "source": [
    "### 8.3 Reading from pickle file"
   ]
  },
  {
   "cell_type": "code",
   "execution_count": 58,
   "metadata": {
    "id": "KHKN-6KoTv_N"
   },
   "outputs": [],
   "source": [
    "with open('assign_train', 'rb') as f:\n",
    "    X_train = pickle.load(f)"
   ]
  },
  {
   "cell_type": "code",
   "execution_count": 59,
   "metadata": {
    "id": "S8Ppqd-oTv_O"
   },
   "outputs": [],
   "source": [
    "with open('assign_val', 'rb') as f:\n",
    "    X_val = pickle.load(f)"
   ]
  },
  {
   "cell_type": "code",
   "execution_count": 60,
   "metadata": {
    "id": "gAikYqztTv_O",
    "outputId": "965faa01-90b3-42d8-b25f-764f41d3b169"
   },
   "outputs": [
    {
     "name": "stdout",
     "output_type": "stream",
     "text": [
      "(31784, 66, 200, 3)\n",
      "(13622, 66, 200, 3)\n",
      "(31784,)\n",
      "(13622,)\n"
     ]
    }
   ],
   "source": [
    "print(X_train.shape)\n",
    "print(X_val.shape)\n",
    "print(y_train.shape)\n",
    "print(y_val.shape)"
   ]
  },
  {
   "cell_type": "markdown",
   "metadata": {
    "id": "f8h_hGnBTv_O"
   },
   "source": [
    "### 8.4. Preparing data for modelling"
   ]
  },
  {
   "cell_type": "code",
   "execution_count": 61,
   "metadata": {
    "id": "2aqIy8y1Tv_P"
   },
   "outputs": [],
   "source": [
    "img_rows = X_train.shape[1]\n",
    "img_cols = X_train.shape[2]\n",
    "channels = X_train.shape[3]"
   ]
  },
  {
   "cell_type": "code",
   "execution_count": 62,
   "metadata": {
    "id": "8rGSTmadTv_P"
   },
   "outputs": [],
   "source": [
    "import tensorflow.keras.backend as K\n",
    "\n",
    "if K.image_data_format() == 'channels_first':\n",
    "    X_train = X_train.reshape(X_train.shape[0], channels, img_rows, img_cols).astype('float32')\n",
    "    X_val = X_val.reshape(X_val.shape[0], channels, img_rows, img_cols).astype('float32')\n",
    "    img_size = (channels, img_rows, img_cols)\n",
    "    \n",
    "else:\n",
    "    X_train = X_train.reshape(X_train.shape[0], img_rows, img_cols, channels).astype('float32')\n",
    "    X_val = X_val.reshape(X_val.shape[0], img_rows, img_cols, channels).astype('float32')\n",
    "    img_size = (img_rows, img_cols, channels)"
   ]
  },
  {
   "cell_type": "code",
   "execution_count": 63,
   "metadata": {
    "id": "xQ83mdTjTv_P"
   },
   "outputs": [],
   "source": [
    "X_train = X_train/255.0\n",
    "X_val = X_val/255.0"
   ]
  },
  {
   "cell_type": "code",
   "execution_count": 64,
   "metadata": {
    "id": "onMkzUdkTv_P",
    "outputId": "54da7039-5190-4866-bf8b-eb7e2e24e758"
   },
   "outputs": [
    {
     "name": "stdout",
     "output_type": "stream",
     "text": [
      "(31784, 66, 200, 3)\n",
      "(31784,)\n",
      "(13622, 66, 200, 3)\n",
      "(13622,)\n",
      "(66, 200, 3)\n"
     ]
    }
   ],
   "source": [
    "print(X_train.shape)\n",
    "print(y_train.shape)\n",
    "print(X_val.shape)\n",
    "print(y_val.shape)\n",
    "print(img_size)"
   ]
  },
  {
   "cell_type": "markdown",
   "metadata": {
    "id": "Ocm5eF7oTv_Q"
   },
   "source": [
    "### 8.5. Building model from Nvidia Architecture"
   ]
  },
  {
   "cell_type": "code",
   "execution_count": 65,
   "metadata": {
    "id": "E6oyDDSWTv_Q"
   },
   "outputs": [],
   "source": [
    "import tensorflow as tf"
   ]
  },
  {
   "cell_type": "code",
   "execution_count": 66,
   "metadata": {
    "id": "hpcYhMUPTv_Q"
   },
   "outputs": [],
   "source": [
    "#https://developer.nvidia.com/blog/deep-learning-self-driving-cars/\n",
    "\n",
    "img_input = tf.keras.Input(img_size)\n",
    "x = tf.keras.layers.Conv2D(filters=24, kernel_size=(5,5), strides=(2,2), padding='valid', name='conv-1')(img_input)\n",
    "x = tf.keras.layers.Conv2D(filters=36, kernel_size=(5,5), strides=(2,2), padding='valid', name='conv-2')(x)\n",
    "x = tf.keras.layers.Conv2D(filters=48, kernel_size=(5,5), strides=(2,2), padding='valid', name='conv-3')(x)\n",
    "x = tf.keras.layers.Conv2D(filters=64, kernel_size=(3,3), strides=(1,1), padding='valid', name='conv-4')(x)\n",
    "x = tf.keras.layers.Conv2D(filters=64, kernel_size=(3,3), strides=(1,1), padding='valid', name='conv-5')(x)\n",
    "x = tf.keras.layers.Flatten(name='flatten')(x)\n",
    "x = tf.keras.layers.Dense(1164, activation='relu', name='dense_layer-1')(x)\n",
    "x = tf.keras.layers.Dropout(0.5, name='dropout-1')(x)\n",
    "x = tf.keras.layers.Dense(100, activation='relu', name='dense_layer-2')(x)\n",
    "x = tf.keras.layers.Dropout(0.5, name='dropout-2')(x)\n",
    "x = tf.keras.layers.Dense(50, activation='relu', name='dense_layer-3')(x)\n",
    "x = tf.keras.layers.Dropout(0.5, name='dropout-3')(x)\n",
    "x = tf.keras.layers.Dense(10, activation='relu', name='dense_layer-4')(x)\n",
    "x = tf.keras.layers.Dropout(0.5, name='dropout-4')(x)\n",
    "output = tf.keras.layers.Dense(1, activation=tf.keras.activations.linear, name='output')(x) #note we have used atan to use tan inverse activation\n",
    "\n",
    "model_2 = tf.keras.models.Model(inputs=img_input, outputs=output, name='model-2')"
   ]
  },
  {
   "cell_type": "code",
   "execution_count": 67,
   "metadata": {
    "id": "yrvL1zfBTv_R",
    "outputId": "46491c62-9926-46a5-ba73-82be168641e4"
   },
   "outputs": [
    {
     "name": "stdout",
     "output_type": "stream",
     "text": [
      "Model: \"model-2\"\n",
      "_________________________________________________________________\n",
      "Layer (type)                 Output Shape              Param #   \n",
      "=================================================================\n",
      "input_2 (InputLayer)         [(None, 66, 200, 3)]      0         \n",
      "_________________________________________________________________\n",
      "conv-1 (Conv2D)              (None, 31, 98, 24)        1824      \n",
      "_________________________________________________________________\n",
      "conv-2 (Conv2D)              (None, 14, 47, 36)        21636     \n",
      "_________________________________________________________________\n",
      "conv-3 (Conv2D)              (None, 5, 22, 48)         43248     \n",
      "_________________________________________________________________\n",
      "conv-4 (Conv2D)              (None, 3, 20, 64)         27712     \n",
      "_________________________________________________________________\n",
      "conv-5 (Conv2D)              (None, 1, 18, 64)         36928     \n",
      "_________________________________________________________________\n",
      "flatten (Flatten)            (None, 1152)              0         \n",
      "_________________________________________________________________\n",
      "dense_layer-1 (Dense)        (None, 1164)              1342092   \n",
      "_________________________________________________________________\n",
      "dropout-1 (Dropout)          (None, 1164)              0         \n",
      "_________________________________________________________________\n",
      "dense_layer-2 (Dense)        (None, 100)               116500    \n",
      "_________________________________________________________________\n",
      "dropout-2 (Dropout)          (None, 100)               0         \n",
      "_________________________________________________________________\n",
      "dense_layer-3 (Dense)        (None, 50)                5050      \n",
      "_________________________________________________________________\n",
      "dropout-3 (Dropout)          (None, 50)                0         \n",
      "_________________________________________________________________\n",
      "dense_layer-4 (Dense)        (None, 10)                510       \n",
      "_________________________________________________________________\n",
      "dropout-4 (Dropout)          (None, 10)                0         \n",
      "_________________________________________________________________\n",
      "output (Dense)               (None, 1)                 11        \n",
      "=================================================================\n",
      "Total params: 1,595,511\n",
      "Trainable params: 1,595,511\n",
      "Non-trainable params: 0\n",
      "_________________________________________________________________\n"
     ]
    }
   ],
   "source": [
    "model_2.summary()"
   ]
  },
  {
   "cell_type": "markdown",
   "metadata": {
    "id": "BQncaP27Tv_R"
   },
   "source": [
    "### 8.6 Compiling and fit the model"
   ]
  },
  {
   "cell_type": "code",
   "execution_count": 68,
   "metadata": {
    "id": "WmZlFq9xTv_R"
   },
   "outputs": [],
   "source": [
    "model_2.compile(optimizer=tf.keras.optimizers.Adam(learning_rate=0.0001), loss='mean_squared_error')"
   ]
  },
  {
   "cell_type": "code",
   "execution_count": 69,
   "metadata": {
    "id": "IyLLsAX4Tv_R"
   },
   "outputs": [],
   "source": [
    "batch_size = 64\n",
    "Epochs = 30"
   ]
  },
  {
   "cell_type": "code",
   "execution_count": 72,
   "metadata": {
    "id": "fkS7estFTv_R"
   },
   "outputs": [],
   "source": [
    "from datetime import datetime\n",
    "from tensorflow.keras.callbacks import  ModelCheckpoint\n",
    "\n",
    "checkpoint_file_name = 'my_data/checkpoint/assign/July_01-weights.{epoch:02d}-{val_loss:.2f}.hdf5'\n",
    "model_checkpoint = ModelCheckpoint(checkpoint_file_name, monitor='val_loss', verbose=1, save_best_only=True)\n",
    "\n",
    "callbacks = [model_checkpoint]"
   ]
  },
  {
   "cell_type": "code",
   "execution_count": 73,
   "metadata": {
    "id": "0xHtk74oTv_S",
    "outputId": "406fab2f-1c79-432f-8550-15f67170bfed"
   },
   "outputs": [
    {
     "name": "stdout",
     "output_type": "stream",
     "text": [
      "Epoch 1/30\n",
      "497/497 - 10s - loss: 0.3130 - val_loss: 0.2410\n",
      "\n",
      "Epoch 00001: val_loss improved from inf to 0.24103, saving model to my_data/checkpoint/assign/July_01-weights.01-0.24.hdf5\n",
      "Epoch 2/30\n",
      "497/497 - 10s - loss: 0.3077 - val_loss: 0.2411\n",
      "\n",
      "Epoch 00002: val_loss did not improve from 0.24103\n",
      "Epoch 3/30\n",
      "497/497 - 10s - loss: 0.2937 - val_loss: 0.2409\n",
      "\n",
      "Epoch 00003: val_loss improved from 0.24103 to 0.24094, saving model to my_data/checkpoint/assign/July_01-weights.03-0.24.hdf5\n",
      "Epoch 4/30\n",
      "497/497 - 10s - loss: 0.2665 - val_loss: 0.2419\n",
      "\n",
      "Epoch 00004: val_loss did not improve from 0.24094\n",
      "Epoch 5/30\n",
      "497/497 - 10s - loss: 0.2479 - val_loss: 0.2470\n",
      "\n",
      "Epoch 00005: val_loss did not improve from 0.24094\n",
      "Epoch 6/30\n",
      "497/497 - 10s - loss: 0.2269 - val_loss: 0.2583\n",
      "\n",
      "Epoch 00006: val_loss did not improve from 0.24094\n",
      "Epoch 7/30\n",
      "497/497 - 10s - loss: 0.2116 - val_loss: 0.2517\n",
      "\n",
      "Epoch 00007: val_loss did not improve from 0.24094\n",
      "Epoch 8/30\n",
      "497/497 - 6s - loss: 0.2059 - val_loss: 0.2462\n",
      "\n",
      "Epoch 00008: val_loss did not improve from 0.24094\n",
      "Epoch 9/30\n",
      "497/497 - 6s - loss: 0.1913 - val_loss: 0.2426\n",
      "\n",
      "Epoch 00009: val_loss did not improve from 0.24094\n",
      "Epoch 10/30\n",
      "497/497 - 6s - loss: 0.1924 - val_loss: 0.2423\n",
      "\n",
      "Epoch 00010: val_loss did not improve from 0.24094\n",
      "Epoch 11/30\n",
      "497/497 - 6s - loss: 0.1733 - val_loss: 0.2568\n",
      "\n",
      "Epoch 00011: val_loss did not improve from 0.24094\n",
      "Epoch 12/30\n",
      "497/497 - 6s - loss: 0.1707 - val_loss: 0.2579\n",
      "\n",
      "Epoch 00012: val_loss did not improve from 0.24094\n",
      "Epoch 13/30\n",
      "497/497 - 6s - loss: 0.1583 - val_loss: 0.2555\n",
      "\n",
      "Epoch 00013: val_loss did not improve from 0.24094\n",
      "Epoch 14/30\n",
      "497/497 - 10s - loss: 0.1608 - val_loss: 0.2625\n",
      "\n",
      "Epoch 00014: val_loss did not improve from 0.24094\n",
      "Epoch 15/30\n",
      "497/497 - 10s - loss: 0.1477 - val_loss: 0.2921\n",
      "\n",
      "Epoch 00015: val_loss did not improve from 0.24094\n",
      "Epoch 16/30\n",
      "497/497 - 6s - loss: 0.1541 - val_loss: 0.2849\n",
      "\n",
      "Epoch 00016: val_loss did not improve from 0.24094\n",
      "Epoch 17/30\n",
      "497/497 - 6s - loss: 0.1522 - val_loss: 0.2785\n",
      "\n",
      "Epoch 00017: val_loss did not improve from 0.24094\n",
      "Epoch 18/30\n",
      "497/497 - 6s - loss: 0.1495 - val_loss: 0.2661\n",
      "\n",
      "Epoch 00018: val_loss did not improve from 0.24094\n",
      "Epoch 19/30\n",
      "497/497 - 6s - loss: 0.1391 - val_loss: 0.2983\n",
      "\n",
      "Epoch 00019: val_loss did not improve from 0.24094\n",
      "Epoch 20/30\n",
      "497/497 - 6s - loss: 0.1443 - val_loss: 0.2709\n",
      "\n",
      "Epoch 00020: val_loss did not improve from 0.24094\n",
      "Epoch 21/30\n",
      "497/497 - 6s - loss: 0.1272 - val_loss: 0.3018\n",
      "\n",
      "Epoch 00021: val_loss did not improve from 0.24094\n",
      "Epoch 22/30\n",
      "497/497 - 6s - loss: 0.1443 - val_loss: 0.3922\n",
      "\n",
      "Epoch 00022: val_loss did not improve from 0.24094\n",
      "Epoch 23/30\n",
      "497/497 - 11s - loss: 0.1461 - val_loss: 0.3111\n",
      "\n",
      "Epoch 00023: val_loss did not improve from 0.24094\n",
      "Epoch 24/30\n",
      "497/497 - 6s - loss: 0.1314 - val_loss: 0.4338\n",
      "\n",
      "Epoch 00024: val_loss did not improve from 0.24094\n",
      "Epoch 25/30\n",
      "497/497 - 6s - loss: 0.1302 - val_loss: 0.3850\n",
      "\n",
      "Epoch 00025: val_loss did not improve from 0.24094\n",
      "Epoch 26/30\n",
      "497/497 - 6s - loss: 0.1243 - val_loss: 0.3080\n",
      "\n",
      "Epoch 00026: val_loss did not improve from 0.24094\n",
      "Epoch 27/30\n",
      "497/497 - 6s - loss: 0.1290 - val_loss: 0.3246\n",
      "\n",
      "Epoch 00027: val_loss did not improve from 0.24094\n",
      "Epoch 28/30\n",
      "497/497 - 6s - loss: 0.1206 - val_loss: 0.4150\n",
      "\n",
      "Epoch 00028: val_loss did not improve from 0.24094\n",
      "Epoch 29/30\n",
      "497/497 - 6s - loss: 0.1202 - val_loss: 0.3597\n",
      "\n",
      "Epoch 00029: val_loss did not improve from 0.24094\n",
      "Epoch 30/30\n",
      "497/497 - 6s - loss: 0.1208 - val_loss: 0.3903\n",
      "\n",
      "Epoch 00030: val_loss did not improve from 0.24094\n"
     ]
    }
   ],
   "source": [
    "history_2 = model_2.fit(X_train, y_train, batch_size=batch_size, epochs=Epochs, validation_data=(X_val, y_val), callbacks=callbacks, verbose=2)"
   ]
  },
  {
   "cell_type": "markdown",
   "metadata": {
    "id": "hG6GqOIXTv_S"
   },
   "source": [
    "## Summary:\n",
    "- As we can see from the base model we got test_mse with mean as a prediction we got 0.241561 and Test_MSE(ZERO):0.241107 and here we got 0.24098 as mean_squared_error with dropout. This makes our model works better than our base model. \n",
    "- Even after so many epochs we can't reduce mean_squared_error further"
   ]
  },
  {
   "cell_type": "code",
   "execution_count": 74,
   "metadata": {
    "id": "tywdOco4Tv_S",
    "outputId": "b0004c0f-b12a-4fa2-feda-06288d5b4402"
   },
   "outputs": [
    {
     "data": {
      "image/png": "[encoded data removed]",
      "text/plain": [
       "<Figure size 864x288 with 1 Axes>"
      ]
     },
     "metadata": {
      "needs_background": "light"
     },
     "output_type": "display_data"
    }
   ],
   "source": [
    "# history plot for accuracy\n",
    "plt.figure(figsize=(12,4))\n",
    "plt.plot(history_2.history[\"loss\"])\n",
    "plt.plot(history_2.history[\"val_loss\"])\n",
    "plt.title(\"Model Loss\")\n",
    "plt.xlabel(\"Epoch\")\n",
    "plt.ylabel(\"Loss\")\n",
    "plt.yscale('log')\n",
    "plt.legend([\"train\", \"test\"], loc=\"upper left\")\n",
    "plt.show() "
   ]
  },
  {
   "cell_type": "markdown",
   "metadata": {
    "id": "hkSDD-Z8Tv_S"
   },
   "source": [
    "### 8.7 Predict using best model"
   ]
  },
  {
   "cell_type": "code",
   "execution_count": 76,
   "metadata": {
    "id": "CBf8l2k_Tv_S"
   },
   "outputs": [],
   "source": [
    "best_model_2 = tf.keras.models.load_model('my_data/checkpoint/assign/July_01-weights.03-0.24.hdf5')\n",
    "\n",
    "all_pred = []\n",
    "for i in X_val[1000:2000]:\n",
    "    i = cv2.resize(i, (200,66))\n",
    "    i = i/255.0\n",
    "    i = np.expand_dims(i, axis=0)\n",
    "    prediction = best_model_2.predict(i)\n",
    "    all_pred.extend(prediction[0])"
   ]
  },
  {
   "cell_type": "code",
   "execution_count": 77,
   "metadata": {
    "id": "xvtekioBTv_T",
    "outputId": "697f5392-e829-49e2-e7dd-5ddfc21f0cb0"
   },
   "outputs": [
    {
     "data": {
      "text/plain": [
       "{0.034316905}"
      ]
     },
     "execution_count": 77,
     "metadata": {},
     "output_type": "execute_result"
    }
   ],
   "source": [
    "set(all_pred)"
   ]
  },
  {
   "cell_type": "code",
   "execution_count": 78,
   "metadata": {
    "id": "Urdm-bD_Tv_T",
    "outputId": "54128cba-acf9-46f8-f7db-1eba87c97f99"
   },
   "outputs": [
    {
     "data": {
      "text/plain": [
       "518"
      ]
     },
     "execution_count": 78,
     "metadata": {},
     "output_type": "execute_result"
    }
   ],
   "source": [
    "len(set(y_val[1000:2000]))"
   ]
  },
  {
   "cell_type": "markdown",
   "metadata": {
    "id": "kOu9Ou_BTv_T"
   },
   "source": [
    "### 8.8 Using the output prediction "
   ]
  },
  {
   "cell_type": "code",
   "execution_count": null,
   "metadata": {},
   "outputs": [],
   "source": [
    "#to rotate the steering image refer https://opencv-python-tutroals.readthedocs.io/en/latest/py_tutorials/py_imgproc/py_geometric_transformations/py_geometric_transformations.html\n",
    "#steering_image\n",
    "import scipy\n",
    "model_1 = tf.keras.models.load_model('my_data/checkpoint/assign/July_01-weights.03-0.24.hdf5', \n",
    "                                          custom_objects={'custom_activation':custom_activation})\n",
    "steering_img = cv2.imread('steering_wheel_image.jpg')\n",
    "rows, cols = steering_img.shape[0], steering_img.shape[1]\n",
    "\n",
    "cap = cv2.VideoCapture('my_data/Self_Driving_Car.avi')\n",
    "\n",
    "smoothed_angle = 0\n",
    "while True:\n",
    "    ret, frame = cap.read()\n",
    "    resized_frame = cv2.resize(frame, (200,66))\n",
    "    resized_frame = resized_frame/255.0\n",
    "    resized_frame = np.expand_dims(resized_frame,axis=0)\n",
    "    degrees = (model_1.predict(resized_frame) * 180)/scipy.pi  #to convert the radians to degrees\n",
    "    cv2.imshow('frame', frame)\n",
    "    #make smooth angle transitions by turning the steering wheel based on the difference of the current angle\n",
    "    #and the predicted angle\n",
    "    smoothed_angle += 0/2 * pow(abs(degrees - smoothed_angle), 2.0/3.0) * (degrees-smoothed_angle) / abs(degrees-smoothed_angle)\n",
    "    degrees=float(degrees)\n",
    "    M = cv2.getRotationMatrix2D((cols/2, rows/2), -degrees, 1)\n",
    "    dst = cv2.warpAffine(steering_img, M, (cols,rows))\n",
    "    cv2.imshow('steering_wheel', dst)\n",
    "    \n",
    "    if cv2.waitKey(1)==27:\n",
    "        break\n",
    "        \n",
    "cv2.destroyAllWindows()\n",
    "cap.release()"
   ]
  }
 ],
 "metadata": {
  "colab": {
   "name": "PremKumar_SelfDrivingCar.ipynb",
   "provenance": []
  },
  "kernelspec": {
   "display_name": "Python 3",
   "language": "python",
   "name": "python3"
  },
  "language_info": {
   "codemirror_mode": {
    "name": "ipython",
    "version": 3
   },
   "file_extension": ".py",
   "mimetype": "text/x-python",
   "name": "python",
   "nbconvert_exporter": "python",
   "pygments_lexer": "ipython3",
   "version": "3.8.5"
  }
 },
 "nbformat": 4,
 "nbformat_minor": 1
}
